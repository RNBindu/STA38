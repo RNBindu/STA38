{
 "cells": [
  {
   "cell_type": "markdown",
   "metadata": {},
   "source": [
    "Probability practice\n",
    "\n",
    "\n",
    "Part A. Visitors to your website are asked to answer a single survey question before they get access to the content on the page. Among all of the users, there are two categories: Random Clicker (RC), and Truthful Clicker (TC). There are two possible answers to the survey: yes and no. Random clickers would click either one with equal probability. You are also giving the information that the expected fraction of random clickers is 0.3. After a trial period, you get the following survey results: 65% said Yes and 35% said No. What fraction of people who are truthful clickers answered yes? Hint: use the rule of total probability."
   ]
  },
  {
   "cell_type": "markdown",
   "metadata": {},
   "source": [
    "Answer:\n",
    "\n",
    "T: Event that a user is a truthful clicker.\n",
    "R: Event that a user is a random clicker.\n",
    "Y: Event that a user answered \"Yes\" in the survey.\n",
    "N: Event that a user answered \"No\" in the survey.\n",
    "\n",
    "P(R) = 0.3 (Expected fraction of random clickers)\n",
    "P(Y|R) = P(N|R) = 0.5 (Random clickers would click either \"Yes\" or \"No\" with equal probability)\n",
    "P(Y|T) = 0.65 (65% said \"Yes\")\n",
    "P(N|T) = 0.35 (35% said \"No\")\n",
    "P(Y) = 0.65\n",
    "P(N) = 0.35\n",
    "\n",
    "P(T|Y) = ?\n",
    "P(Y) = P(T|Y) P(T) + P(not T) P(T|not Y)\n",
    "Let P(T|Y) = x\n",
    "0.65 = x(1-0.3) + (0.3)(0.5)\n",
    "0.65 = 0.7x + 0.15\n",
    "x = 0.7142\n",
    "\n",
    "P(T|Y) = 71.42%\n",
    "\n",
    "fraction of people who are truthful clickers answered yes = 71.42%"
   ]
  },
  {
   "cell_type": "markdown",
   "metadata": {},
   "source": [
    "Part B. Imagine a medical test for a disease with the following two attributes:\n",
    "\n",
    "The sensitivity is about 0.993. That is, if someone has the disease, there is a probability of 0.993 that they will test positive.\n",
    "The specificity is about 0.9999. This means that if someone doesn't have the disease, there is probability of 0.9999 that they will test negative.\n",
    "In the general population, incidence of the disease is reasonably rare: about 0.0025% of all people have it (or 0.000025 as a decimal probability).\n",
    "Suppose someone tests positive. What is the probability that they have the disease?"
   ]
  },
  {
   "cell_type": "code",
   "execution_count": 4,
   "metadata": {},
   "outputs": [
    {
     "name": "stdout",
     "output_type": "stream",
     "text": [
      "9.999999999998899e-05\n",
      "0.000124822499999989\n",
      "The probability that someone who tests positive actually has the disease is approximately: 19.888241\n"
     ]
    }
   ],
   "source": [
    "# Given probabilities\n",
    "P_D = 0.000025\n",
    "P_Pos_given_D = 0.993\n",
    "P_Neg_given_not_D = 0.9999\n",
    "P_not_D = 1 - P_D\n",
    "\n",
    "# Calculate P(Pos|¬D)\n",
    "P_Pos_given_not_D = (1 - P_Neg_given_not_D)\n",
    "print(P_Pos_given_not_D)\n",
    "\n",
    "# Calculate P(Pos)\n",
    "P_Pos = (P_Pos_given_D * P_D) + (P_Pos_given_not_D * P_not_D)\n",
    "print(P_Pos)\n",
    "\n",
    "# Calculate P(D|Pos) using Bayes' theorem\n",
    "P_D_given_Pos = (P_Pos_given_D * P_D) / (P_Pos)\n",
    "\n",
    "print(f\"The probability that someone who tests positive actually has the disease is approximately: {P_D_given_Pos*100:.6f}\")\n"
   ]
  },
  {
   "cell_type": "code",
   "execution_count": null,
   "metadata": {},
   "outputs": [],
   "source": []
  }
 ],
 "metadata": {
  "kernelspec": {
   "display_name": "Python 3 (ipykernel)",
   "language": "python",
   "name": "python3"
  },
  "language_info": {
   "codemirror_mode": {
    "name": "ipython",
    "version": 3
   },
   "file_extension": ".py",
   "mimetype": "text/x-python",
   "name": "python",
   "nbconvert_exporter": "python",
   "pygments_lexer": "ipython3",
   "version": "3.10.9"
  }
 },
 "nbformat": 4,
 "nbformat_minor": 2
}
