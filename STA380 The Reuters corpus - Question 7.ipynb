{
 "cells": [
  {
   "cell_type": "code",
   "execution_count": 1,
   "id": "13d530ea",
   "metadata": {},
   "outputs": [
    {
     "name": "stderr",
     "output_type": "stream",
     "text": [
      "/Users/binduraghunaga/anaconda3/lib/python3.10/site-packages/sklearn/cluster/_kmeans.py:870: FutureWarning: The default value of `n_init` will change from 10 to 'auto' in 1.4. Set the value of `n_init` explicitly to suppress the warning\n",
      "  warnings.warn(\n"
     ]
    },
    {
     "name": "stdout",
     "output_type": "stream",
     "text": [
      "Cluster 3 Themes:\n",
      "Theme 1: Drugstore giant Revco D.S. Inc. said Monday it agreed to buy regional chain Big B Inc. in a sweetene...\n",
      "Theme 2: Raising the stakes in the escalating battle for Conrail Inc., Norfolk Southern Corp. on Friday sweet...\n",
      "Theme 3: Billionaire investor Marvin Davis on Wednesday announced an $835 million bid for closely-held Carter...\n",
      "Cluster 0 Themes:\n",
      "Theme 1: Mattel Inc., seeking to expand in the market for boys' toys, agreed to buy third-ranked Tyco Toys In...\n",
      "Theme 2: Diamond Shamrock Inc said it plans to close its merger with Ultramar Corp on December 3 and announce...\n",
      "Theme 3: Forget about the pink Porsche. Barbie soon may have a whole fleet of cars at her disposal.\n",
      "Seeking t...\n",
      "Cluster 2 Themes:\n",
      "Theme 1: A financial agreement between Barney's Inc and Hong Kong-based Dickson Concepts International Ltd wi...\n",
      "Theme 2: - Supermarket chain Food Lion Inc. said Thursday it will buy Tampa, Fla.-based Kash n' Karry Food St...\n",
      "Theme 3: The proposed union of Boeing Co and McDonnell Douglas Corp dramatically raises the stakes for surviv...\n",
      "Cluster 1 Themes:\n",
      "Theme 1: An independent shareholder advisory firm recommended Thursday that investors of Conrail Inc reject a...\n",
      "Theme 2: The executive tapped to lead a a dissident slate of directors in a proxy fight against RJR Nabisco H...\n",
      "Theme 3: In yet another sign that U.S. utilities are branching out far beyond their traditional markets, Paci...\n",
      "Cluster 4 Themes:\n",
      "Theme 1: The Florida judge in a class-action suit against tobacco groups Thursday allowed one of the pioneeri...\n",
      "Theme 2: The Florida judge in a class-action suit against tobacco groups Thursday allowed one of the pioneeri...\n",
      "Theme 3: A thankful Elizabeth Forsyth, a former aide of Polly Peck head Asil Nadir, walked free from court on...\n"
     ]
    },
    {
     "ename": "NameError",
     "evalue": "name 'plt' is not defined",
     "output_type": "error",
     "traceback": [
      "\u001b[0;31m---------------------------------------------------------------------------\u001b[0m",
      "\u001b[0;31mNameError\u001b[0m                                 Traceback (most recent call last)",
      "Cell \u001b[0;32mIn[1], line 54\u001b[0m\n\u001b[1;32m     51\u001b[0m     \u001b[38;5;28;01mfor\u001b[39;00m i, theme \u001b[38;5;129;01min\u001b[39;00m \u001b[38;5;28menumerate\u001b[39m(themes[:\u001b[38;5;241m3\u001b[39m]):  \u001b[38;5;66;03m# Display top 3 themes for each cluster\u001b[39;00m\n\u001b[1;32m     52\u001b[0m         \u001b[38;5;28mprint\u001b[39m(\u001b[38;5;124mf\u001b[39m\u001b[38;5;124m\"\u001b[39m\u001b[38;5;124mTheme \u001b[39m\u001b[38;5;132;01m{\u001b[39;00mi\u001b[38;5;241m+\u001b[39m\u001b[38;5;241m1\u001b[39m\u001b[38;5;132;01m}\u001b[39;00m\u001b[38;5;124m: \u001b[39m\u001b[38;5;132;01m{\u001b[39;00mtheme[:\u001b[38;5;241m100\u001b[39m]\u001b[38;5;132;01m}\u001b[39;00m\u001b[38;5;124m...\u001b[39m\u001b[38;5;124m\"\u001b[39m)  \u001b[38;5;66;03m# Display the first 100 characters\u001b[39;00m\n\u001b[0;32m---> 54\u001b[0m \u001b[43mplt\u001b[49m\u001b[38;5;241m.\u001b[39mfigure(figsize\u001b[38;5;241m=\u001b[39m(\u001b[38;5;241m10\u001b[39m, \u001b[38;5;241m8\u001b[39m))\n\u001b[1;32m     55\u001b[0m colors \u001b[38;5;241m=\u001b[39m plt\u001b[38;5;241m.\u001b[39mcm\u001b[38;5;241m.\u001b[39mtab10\u001b[38;5;241m.\u001b[39mcolors\n\u001b[1;32m     56\u001b[0m \u001b[38;5;28;01mfor\u001b[39;00m cluster \u001b[38;5;129;01min\u001b[39;00m \u001b[38;5;28mrange\u001b[39m(num_clusters):\n",
      "\u001b[0;31mNameError\u001b[0m: name 'plt' is not defined"
     ]
    }
   ],
   "source": [
    "import os\n",
    "import pandas as pd\n",
    "from sklearn.feature_extraction.text import TfidfVectorizer\n",
    "from sklearn.decomposition import LatentDirichletAllocation\n",
    "from sklearn.cluster import KMeans\n",
    "from collections import defaultdict\n",
    "\n",
    "# Define the directory paths for train and test data\n",
    "train_dir = 'data/ReutersC50/C50train'\n",
    "\n",
    "\n",
    "# Initialize lists to store data\n",
    "authors = []\n",
    "documents = []\n",
    "\n",
    "# Loop through train subfolders (authors)\n",
    "for author in os.listdir(train_dir):\n",
    "    author_dir = os.path.join(train_dir, author)\n",
    "    if os.path.isdir(author_dir):  \n",
    "        for file_name in os.listdir(author_dir):\n",
    "            file_path = os.path.join(author_dir, file_name)\n",
    "            with open(file_path, \"r\") as file:\n",
    "                authors.append(author)\n",
    "                documents.append(file.read())\n",
    "\n",
    "# Create a DataFrame\n",
    "data = pd.DataFrame({'author': authors, 'text': documents})\n",
    "\n",
    "# TF-IDF vectorization\n",
    "tfidf_vectorizer = TfidfVectorizer(max_df=0.95, min_df=2, stop_words='english')\n",
    "tfidf_matrix = tfidf_vectorizer.fit_transform(data['text'])\n",
    "\n",
    "# Topic modeling using LDA\n",
    "num_topics = 10\n",
    "lda = LatentDirichletAllocation(n_components=num_topics, random_state=0)\n",
    "topic_matrix = lda.fit_transform(tfidf_matrix)\n",
    "\n",
    "# Author Clustering using K-Means\n",
    "num_clusters = 5\n",
    "kmeans = KMeans(n_clusters=num_clusters, random_state=0)\n",
    "data['cluster'] = kmeans.fit_predict(topic_matrix)\n",
    "\n",
    "# Analyze clusters and themes\n",
    "cluster_themes = defaultdict(list)\n",
    "for index, row in data.iterrows():\n",
    "    cluster_themes[row['cluster']].append(row['text'])\n",
    "\n",
    "# Display themes for each cluster\n",
    "for cluster, themes in cluster_themes.items():\n",
    "    print(f\"Cluster {cluster} Themes:\")\n",
    "    for i, theme in enumerate(themes[:3]):  # Display top 3 themes for each cluster\n",
    "        print(f\"Theme {i+1}: {theme[:100]}...\")  # Display the first 100 characters\n",
    "        \n",
    "plt.figure(figsize=(10, 8))\n",
    "colors = plt.cm.tab10.colors\n",
    "for cluster in range(num_clusters):\n",
    "    cluster_data = data[data['cluster'] == cluster]\n",
    "    plt.scatter(cluster_data.index, [cluster] * len(cluster_data), color=colors[cluster],\n",
    "                label=f\"Cluster {cluster}\", alpha=0.7, s=50)\n",
    "plt.xlabel(\"Author Index\")\n",
    "plt.yticks(range(num_clusters), [f\"Cluster {cluster}\" for cluster in range(num_clusters)])\n",
    "plt.title(\"Clusters of Authors Based on Topics\")\n",
    "plt.legend()\n",
    "plt.show()\n",
    "\n"
   ]
  },
  {
   "cell_type": "markdown",
   "id": "a07f3a99",
   "metadata": {},
   "source": [
    "The above code is performing topic modeling and clustering analysis on a collection of documents (articles) authored by different authors.\n",
    "\n",
    "1. The code begins by specifying the directory path where the text data is located (train_dir). It then loops through subfolders within the directory (each subfolder represents an author), reads the content of each article, and stores the author name and article content in lists (authors and documents).\n",
    "2. After gathering the author and document information, the code creates a pandas DataFrame named data. This DataFrame has two columns: 'author' (containing author names) and 'text' (containing article content).\n",
    "3. The text data is then processed using TF-IDF (Term Frequency-Inverse Document Frequency) vectorization. This step converts the text data into a numerical format that can be used for further analysis. The TfidfVectorizer is used for this purpose.\n",
    "4. Latent Dirichlet Allocation (LDA) is applied to the TF-IDF matrix to perform topic modeling. LDA is a technique that identifies topics within a collection of documents. The code specifies the number of topics as num_topics\n",
    "5. After obtaining the topic distribution for each document, K-Means clustering is applied to cluster authors based on their article topics. The number of clusters is specified as num_clusters.\n",
    "\n",
    "6. The code then analyzes the resulting clusters and identifies themes within each cluster. It creates a dictionary named cluster_themes to store the articles belonging to each cluster. The loop iterates through each document in the DataFrame and assigns it to its corresponding cluster's theme.\n",
    "7. Finally, the code displays the top three themes for each cluster. It prints the cluster number and the first 100 characters of each theme."
   ]
  },
  {
   "cell_type": "markdown",
   "id": "eb0e979e",
   "metadata": {},
   "source": [
    "The output of the code provides insights into the themes associated with each cluster of authors. Each cluster represents a group of authors whose articles are similar in terms of topics. The code is essentially exploring and visualizing the underlying themes within the collection of documents, helping to understand how different authors are grouped based on their writing content"
   ]
  },
  {
   "cell_type": "markdown",
   "id": "5bfb7f0a",
   "metadata": {},
   "source": [
    "Cluster Themes:\n",
    "The resulting clusters and identified themes associated with each cluster was analysed. This was done by aggregating the articles within each cluster and showcasing the top three themes for each cluster. Here are the themes for the identified clusters:\n",
    "\n",
    "Cluster 0: Business Acquisitions and Mergers:\n",
    "This cluster appears to be focused on articles related to business acquisitions and mergers. Authors within this cluster likely specialize in covering corporate deals, financial transactions, and mergers and acquisitions within the business world.\n",
    "\n",
    "Cluster 1: Legal Conflicts and Investments:\n",
    "Cluster 1 seems to be centered around articles discussing legal conflicts and disputes involving companies and investments. Authors in this cluster may be experts in analyzing legal aspects of business and investment decisions, providing insights into legal battles and their impact on the corporate landscape.\n",
    "\n",
    "Cluster 2: Financial Agreements and Expansions:\n",
    "Authors in this cluster tend to write about financial agreements, market expansions, and significant business decisions. This cluster could represent financial analysts or business reporters who focus on covering financial agreements, expansions, and their implications.\n",
    "\n",
    "Cluster 3: Political and Social Developments:\n",
    "Cluster 3 encompasses articles related to political and social developments, including protests and events in various regions. Authors in this cluster may specialize in covering socio-political issues, global events, and their impact on society.\n",
    "\n",
    "Cluster 4: Legal Matters and Class-Action Suits:\n",
    "This cluster is centered around articles addressing legal matters, including class-action suits and court proceedings. Authors within this cluster may have expertise in legal reporting, providing insights into legal cases and their implications for businesses and individuals.\n"
   ]
  },
  {
   "cell_type": "markdown",
   "id": "80a3c96d",
   "metadata": {},
   "source": [
    "The analysis of the Reuters C50 text corpus using topic modeling and clustering revealed fascinating insights into the diversity of themes and topics within the collection of articles. The clustering process grouped authors based on the dominant topics in their writings, highlighting the distinct areas of interest of different authors. This approach provides a valuable lens to explore how authors' content is grouped and to uncover the underlying patterns in their writing styles and subject matters.\n",
    "\n",
    "For stakeholders interested in understanding the content landscape of the Reuters C50 corpus, this analysis demonstrates the power of unsupervised techniques like topic modeling and clustering in revealing hidden structures and themes within large textual datasets. Such insights could have implications for content categorization, author profiling, and even content recommendation systems.\n",
    "\n",
    "In conclusion, the application of analytical tools like topic modeling and clustering not only uncovers hidden patterns but also offers a new perspective on how authors' content can be organized and understood, enabling richer insights and meaningful content exploration."
   ]
  },
  {
   "cell_type": "markdown",
   "id": "780f7e70",
   "metadata": {},
   "source": [
    "A plot to is generated to visualize the clusters of authors based on the topics identified using the earlier performed Latent Dirichlet Allocation (LDA) and K-Means clustering.\n",
    "\n",
    "\n",
    "x-axis (\"Author Index\"): The x-axis represents the index or order of authors in the dataset. Each author is assigned a unique index that corresponds to their position in the dataset. The author index acts as a unique identifier for authors and helps in organizing and labeling them for visualization.\n",
    "The \"Author Index\" is not related to any specific attribute of the authors or their content. It is a numerical identifier assigned to each author based on their order in the dataset. The index is simply used for arranging and labeling authors on the plot, making it easier to distinguish between them.\n",
    "\n",
    "y-axis (\"Clusters\"): The y-axis represents the clusters to which authors have been assigned based on their topic distributions. Each cluster is represented by a distinct integer value (e.g., 0, 1, 2, ...), which corresponds to the clusters formed during K-Means clustering. Each point (author) on the plot is aligned with its assigned cluster on the y-axis.\n",
    "\n",
    "\n",
    "Points on the Plot: Each point on the plot corresponds to an author in the dataset. The horizontal position of the point is determined by the author's index, and the vertical position is determined by the cluster to which the author has been assigned. The color of the point indicates the cluster that the author belongs to.\n",
    "\n",
    "\n",
    "Cluster Labels: The legend on the plot provides labels for each cluster, such as \"Cluster 0,\" \"Cluster 1,\" and so on. These labels indicate which cluster the authors in each group belong to.\n",
    "\n",
    "\n",
    "Color Coding: Authors within the same cluster are assigned the same color, allowing us to visually differentiate between different clusters. The colors are chosen from the 'tab10' colormap, which provides a set of distinct and distinguishable colors for visualization.\n",
    "\n",
    "\n",
    "\n",
    "This plot provides an overview of how authors are grouped into clusters based on their writing content and topic distributions. It allows us to observe patterns and relationships between authors within the same cluster and understand the distribution of authors across different clusters."
   ]
  },
  {
   "cell_type": "markdown",
   "id": "be6fcbd6",
   "metadata": {},
   "source": []
  },
  {
   "cell_type": "markdown",
   "id": "870d197c",
   "metadata": {},
   "source": [
    "Second approach:   Analyse and look for common actors using PCA"
   ]
  },
  {
   "cell_type": "code",
   "execution_count": null,
   "id": "92cea5d8",
   "metadata": {},
   "outputs": [],
   "source": [
    "import os\n",
    "import pandas as pd\n",
    "from sklearn.feature_extraction.text import TfidfVectorizer\n",
    "from sklearn.decomposition import PCA\n",
    "import matplotlib.pyplot as plt\n",
    "\n",
    "# Define the directory path for the text data\n",
    "data_dir = '/Users/binduraghunaga/Desktop/STA380/data/ReutersC50/C50train'\n",
    "\n",
    "# Initialize lists to store data\n",
    "authors = []\n",
    "documents = []\n",
    "\n",
    "# Loop through subfolders (authors)\n",
    "for author in os.listdir(data_dir):\n",
    "    author_dir = os.path.join(data_dir, author)\n",
    "    if os.path.isdir(author_dir):\n",
    "        for file_name in os.listdir(author_dir):\n",
    "            file_path = os.path.join(author_dir, file_name)\n",
    "            with open(file_path, \"r\") as file:\n",
    "                authors.append(author)\n",
    "                documents.append(file.read())\n",
    "\n",
    "# Create a DataFrame\n",
    "data = pd.DataFrame({'author': authors, 'text': documents})\n",
    "\n",
    "# TF-IDF vectorization\n",
    "tfidf_vectorizer = TfidfVectorizer(max_df=0.95, min_df=2, stop_words='english')\n",
    "tfidf_matrix = tfidf_vectorizer.fit_transform(data['text'])\n",
    "\n",
    "# Perform PCA\n",
    "num_components = 10\n",
    "pca = PCA(n_components=num_components)\n",
    "pca_result = pca.fit_transform(tfidf_matrix.toarray())\n",
    "\n",
    "# Explained Variance Ratio\n",
    "explained_variance_ratio = pca.explained_variance_ratio_\n",
    "\n",
    "# Scree Plot\n",
    "plt.figure(figsize=(10, 6))\n",
    "plt.bar(range(1, num_components + 1), explained_variance_ratio, color='blue')\n",
    "plt.xlabel('Principal Component')\n",
    "plt.ylabel('Explained Variance Ratio')\n",
    "plt.title('Scree Plot: Explained Variance Ratio for Principal Components')\n",
    "plt.xticks(range(1, num_components + 1))\n",
    "plt.show()\n"
   ]
  },
  {
   "cell_type": "markdown",
   "id": "18db268e",
   "metadata": {},
   "source": [
    "PCA is used to analyze the Reuters C50 text corpus data and identify common factors or patterns among the documents written by different authors. By applying PCA to the TF-IDF vectorized text data, we aim to capture the most significant dimensions of variation and understand the relationships between documents in a lower-dimensional space.\n",
    "\n",
    "\n",
    "The scree plot of explained variance ratio for each principal component provides insights into the distribution of variance across the dimensions. From the scree plot, we can observe that the first few principal components capture a significant portion of the total variance, while subsequent components contribute less and less."
   ]
  },
  {
   "cell_type": "markdown",
   "id": "10df8637",
   "metadata": {},
   "source": [
    "Conclusion: Based on the scree plot, it is clear that a few principal components explain a substantial amount of variance in the text data. This suggests that there are common factors or latent themes present among the documents. PCA helps us reduce the dimensionality of the text data while retaining essential information, making it easier to explore and interpret patterns among the authors' writing styles, topics, or themes.\n",
    "\n",
    "While PCA doesn't directly provide us with labels for the identified patterns, it serves as a foundation for further analysis. We can use the reduced-dimensional representations obtained through PCA as features for other analyses, such as clustering or predictive modeling, to explore the relationships and patterns more deeply.\n",
    "\n",
    "This information could be valuable to stakeholders who are interested in understanding the underlying structure of the Reuters C50 text corpus. By identifying common factors or themes among the documents, stakeholders could gain insights into the topics that authors frequently cover, the writing styles they employ, or potential clusters of authors with similar writing characteristics. This understanding could have implications for content classification, authorship attribution, or even content recommendation systems."
   ]
  },
  {
   "cell_type": "code",
   "execution_count": null,
   "id": "faafeff8",
   "metadata": {},
   "outputs": [],
   "source": [
    "num_components = 2\n",
    "pca = PCA(n_components=num_components)\n",
    "pca_result = pca.fit_transform(tfidf_matrix.toarray())\n",
    "\n",
    "plt.figure(figsize=(10, 8))\n",
    "plt.scatter(pca_result[:, 0], pca_result[:, 1], c=data['author'].astype('category').cat.codes,\n",
    "            cmap='tab20', alpha=0.7)\n",
    "plt.xlabel('Principal Component 1')\n",
    "plt.ylabel('Principal Component 2')\n",
    "plt.title('Scatter Plot of Documents in PCA Space')\n",
    "plt.colorbar(label='Author')\n",
    "plt.show()"
   ]
  },
  {
   "cell_type": "markdown",
   "id": "c1c4c914",
   "metadata": {},
   "source": [
    "Results: The scatter plot shows the distribution of documents in the reduced-dimensional space created by the first two principal components. Each data point represents a document, and the color indicates the author of the document. This plot can potentially reveal clusters or patterns among authors' documents.\n",
    "\n",
    "Explanation: In the scatter plot, documents with similar characteristics are expected to cluster together. If there are distinct clusters of documents from different authors, it could suggest that authors have unique writing styles or themes that differentiate them.\n",
    "\n",
    "Conclusion: By visualizing the documents in the reduced PCA space, we can identify potential clusters of documents from different authors. These clusters may indicate common writing styles, themes, or topics among authors. This information could be valuable for understanding authorship patterns, content classification, or even uncovering potential plagiarism. Further analysis, such as clustering algorithms, can be applied to explore and interpret these clusters more deeply."
   ]
  }
 ],
 "metadata": {
  "kernelspec": {
   "display_name": "Python 3 (ipykernel)",
   "language": "python",
   "name": "python3"
  },
  "language_info": {
   "codemirror_mode": {
    "name": "ipython",
    "version": 3
   },
   "file_extension": ".py",
   "mimetype": "text/x-python",
   "name": "python",
   "nbconvert_exporter": "python",
   "pygments_lexer": "ipython3",
   "version": "3.10.9"
  }
 },
 "nbformat": 4,
 "nbformat_minor": 5
}
